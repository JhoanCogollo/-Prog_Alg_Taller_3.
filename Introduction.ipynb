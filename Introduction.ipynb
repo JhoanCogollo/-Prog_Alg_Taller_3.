{
  "nbformat": 4,
  "nbformat_minor": 0,
  "metadata": {
    "colab": {
      "provenance": [],
      "include_colab_link": true
    },
    "kernelspec": {
      "name": "python3",
      "display_name": "Python 3"
    },
    "language_info": {
      "name": "python"
    }
  },
  "cells": [
    {
      "cell_type": "markdown",
      "metadata": {
        "id": "view-in-github",
        "colab_type": "text"
      },
      "source": [
        "<a href=\"https://colab.research.google.com/github/JhoanCogollo/-Prog_Alg_Taller_3./blob/main/Introduction.ipynb\" target=\"_parent\"><img src=\"https://colab.research.google.com/assets/colab-badge.svg\" alt=\"Open In Colab\"/></a>"
      ]
    },
    {
      "cell_type": "markdown",
      "source": [
        "Jorge Cabrera-000503744-jorge.cabrera@upb.edu.co\n",
        "Jhoan Cogollo-000505385-jhoan.cogolloj@upb.edu.co\n"
      ],
      "metadata": {
        "id": "rwlNpiJgnjPO"
      }
    },
    {
      "cell_type": "code",
      "execution_count": 1,
      "metadata": {
        "colab": {
          "base_uri": "https://localhost:8080/"
        },
        "id": "XCIfKgP7KvNH",
        "outputId": "1447e5e1-416b-4fce-cdaa-969dec3298e7"
      },
      "outputs": [
        {
          "output_type": "stream",
          "name": "stdout",
          "text": [
            "Escriba la posicion inicial:1\n",
            "Escriba la velocidad inicia:1\n",
            "Escriba el tiempo:1\n",
            "Escriba la aceleracion:1\n",
            "la posicion de una particula 3.5 m\n"
          ]
        }
      ],
      "source": [
        "\n",
        "#CALCULAR LA POSICION FINAL DE UNA PARTICULA.\n",
        "\n",
        "X0 = float(input(\"Escriba la posicion inicial:\"))\n",
        "V0 = float(input(\"Escriba la velocidad inicia:\"))\n",
        "t = float(input(\"Escriba el tiempo:\"))\n",
        "a = float(input(\"Escriba la aceleracion:\"))\n",
        "\n",
        "\n",
        "X = X0 + V0*t + 0.5 +(a*(t**2))\n",
        "\n",
        "V0 = 16\n",
        "X0 = 20\n",
        "t = 8.5\n",
        "a = 6\n",
        "\n",
        "print(\"la posicion de una particula\",X, \"m\")\n",
        "\n"
      ]
    },
    {
      "cell_type": "code",
      "source": [
        "#calcular la distancia entre dos puntos\n",
        "\n",
        "X1 = float(input(\"Escriba la posicion del primer punto en x: \"))\n",
        "Y1 = float(input(\"Escriba la posicion del primer punto en y: \"))\n",
        "\n",
        "X2 = float(input(\"Escriba la posicion del segundo punto en x: \"))\n",
        "Y2 = float(input(\"Escriba la posicion del segundo punto en y: \"))\n",
        "\n",
        "print(\"X1= \",X1)\n",
        "print(\"Y1= \",Y1)\n",
        "print(\"X2= \",X2)\n",
        "print(\"Y2= \",Y2)\n",
        "print(\".\")\n",
        "d= ( ((X2-X1))**2 + ((Y2-Y1))**2)**0.5\n",
        "\n",
        "print(\"La distancia entre los dos puntos es: \",d,\"m\")"
      ],
      "metadata": {
        "colab": {
          "base_uri": "https://localhost:8080/"
        },
        "id": "jnv4V4b7U5GT",
        "outputId": "3b99feae-1edf-4120-80ea-2c1c010af37d"
      },
      "execution_count": 11,
      "outputs": [
        {
          "output_type": "stream",
          "name": "stdout",
          "text": [
            "Escriba la posicion del primer punto en x: 1\n",
            "Escriba la posicion del primer punto en y: 2\n",
            "Escriba la posicion del segundo punto en x: 3\n",
            "Escriba la posicion del segundo punto en y: 4\n",
            "X1=  1.0\n",
            "Y1=  2.0\n",
            "X2=  3.0\n",
            "Y2=  4.0\n",
            ".\n",
            "La distancia entre los dos puntos es:  2.8284271247461903 m\n"
          ]
        }
      ]
    }
  ]
}