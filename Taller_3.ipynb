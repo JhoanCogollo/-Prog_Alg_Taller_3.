{
  "nbformat": 4,
  "nbformat_minor": 0,
  "metadata": {
    "colab": {
      "provenance": [],
      "authorship_tag": "ABX9TyMxKWb0CgP1j1q1liDdsn0x",
      "include_colab_link": true
    },
    "kernelspec": {
      "name": "python3",
      "display_name": "Python 3"
    },
    "language_info": {
      "name": "python"
    }
  },
  "cells": [
    {
      "cell_type": "markdown",
      "metadata": {
        "id": "view-in-github",
        "colab_type": "text"
      },
      "source": [
        "<a href=\"https://colab.research.google.com/github/JhoanCogollo/-Prog_Alg_Taller_3./blob/main/Taller_3.ipynb\" target=\"_parent\"><img src=\"https://colab.research.google.com/assets/colab-badge.svg\" alt=\"Open In Colab\"/></a>"
      ]
    },
    {
      "cell_type": "markdown",
      "source": [
        "Taller 3 Sintaxis Básica de Python\n",
        "-Jhoan Cogollo\n",
        "-505395\n",
        "-jhoan.cogolloj@upb.edu.co\n",
        "___________________________\n",
        "Jorge Cabrera                \n"
      ],
      "metadata": {
        "id": "bxMAPuAMGLsg"
      }
    },
    {
      "cell_type": "markdown",
      "source": [
        "##Problema 3.\n",
        "Calcular y mostrar el valor del volumen de un cilindro cuyo radio y altura sean ingresados por el\n",
        "usuario. El volumen de un cilindro está dado por:\n",
        "𝑉 = 𝜋𝑟2ℎ\n",
        "Donde 𝜋 = 3.141592, 𝑟 es el radio y ℎ la altura."
      ],
      "metadata": {
        "id": "XHHhf0iKIJ5a"
      }
    },
    {
      "cell_type": "code",
      "source": [],
      "metadata": {
        "id": "f_21b6NlIMQA"
      },
      "execution_count": null,
      "outputs": []
    }
  ]
}