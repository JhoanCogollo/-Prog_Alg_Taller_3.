{
  "nbformat": 4,
  "nbformat_minor": 0,
  "metadata": {
    "colab": {
      "provenance": [],
      "authorship_tag": "ABX9TyOq7UD8/cGG4LpCagBZrEIt",
      "include_colab_link": true
    },
    "kernelspec": {
      "name": "python3",
      "display_name": "Python 3"
    },
    "language_info": {
      "name": "python"
    }
  },
  "cells": [
    {
      "cell_type": "markdown",
      "metadata": {
        "id": "view-in-github",
        "colab_type": "text"
      },
      "source": [
        "<a href=\"https://colab.research.google.com/github/JhoanCogollo/-Prog_Alg_Taller_3./blob/main/Taller_3.ipynb\" target=\"_parent\"><img src=\"https://colab.research.google.com/assets/colab-badge.svg\" alt=\"Open In Colab\"/></a>"
      ]
    },
    {
      "cell_type": "markdown",
      "source": [
        "Taller 3 Sintaxis Básica de Python\n",
        "\n",
        "-Jhoan Cogollo\n",
        "-505395\n",
        "-jhoan.cogolloj@upb.edu.co\n",
        "\n",
        "Jorge Cabrera\n",
        "-503744\n",
        "-Jorge.cabrera@upb.edu.co              \n"
      ],
      "metadata": {
        "id": "bxMAPuAMGLsg"
      }
    },
    {
      "cell_type": "markdown",
      "source": [
        "##Problema 3.\n",
        "Calcular y mostrar el valor del volumen de un cilindro cuyo radio y altura sean ingresados por el\n",
        "usuario. El volumen de un cilindro está dado por:\n",
        "𝑉 = 𝜋𝑟2ℎ\n",
        "Donde 𝜋 = 3.141592, 𝑟 es el radio y ℎ la altura."
      ],
      "metadata": {
        "id": "XHHhf0iKIJ5a"
      }
    },
    {
      "cell_type": "code",
      "source": [
        "\n",
        "#Cálculo volumen de un cilindro\n",
        "pi=3.141592\n",
        "r=float(input(\"Ingrese el radio del cilindro (m):\"))\n",
        "h=float(input(\"Ingrese la altura del cilindro (m):\",))\n",
        "v=pi*(r**2)*h1\n",
        "print(\"     .\")\n",
        "print(\"     .\")\n",
        "print(\"     .\")\n",
        "print(\"El volumen del cilindro es:\",v,(\"m^3\"))"
      ],
      "metadata": {
        "colab": {
          "base_uri": "https://localhost:8080/"
        },
        "id": "lbIt3TxxI1HG",
        "outputId": "a70e6774-17d4-48c6-bf2c-14a5fbd27d7b"
      },
      "execution_count": 30,
      "outputs": [
        {
          "output_type": "stream",
          "name": "stdout",
          "text": [
            "Ingrese el radio del cilindro (m):1\n",
            "Ingrese la altura del cilindro (m):1\n",
            "     .\n",
            "     .\n",
            "     .\n",
            "El volumen del cilindro es: 3.141592 m^3\n"
          ]
        }
      ]
    },
    {
      "cell_type": "markdown",
      "source": [
        "Problema 4.\n",
        "Calcular y mostrar el resultado de las siguientes operaciones lógicas:\n",
        "1. A > B y B > D\n",
        "2. B <= C o C < D\n",
        "3. A = B y B > C\n",
        "4. A < C o B < C\n",
        "5. A + D < C y B > 5\n",
        "6. D – C >= - A * B\n",
        "7. D * C == 5 o C * A > 9\n",
        "8. A * B + C > - D * 10\n",
        "\n"
      ],
      "metadata": {
        "id": "-2iQtK2LME-J"
      }
    },
    {
      "cell_type": "code",
      "source": [
        "#Calcular y mostrar el resultado de las siguientes operaciones lógicas\n",
        "\n",
        "A=float(input(\"Ingrese el primer número decimal:\"))\n",
        "B=float(input(\"Ingrese el segundo número decimal:\"))\n",
        "C=float(input(\"Ingrese el tercer número decimal:\"))\n",
        "D=float(input(\"Ingrese el cuarto número decimal:\"))\n",
        "print(\"ㅤ\")\n",
        "r1=((A > B) and (B > D))\n",
        "print(\"Esto (A > B y B > D) es\",r1)\n",
        "print(\"ㅤ\")\n",
        "\n",
        "r2=((B <= C) or (C < D))\n",
        "print(\"Esto (B <= C o C < D) es\",r2)\n",
        "print(\"ㅤ\")\n",
        "\n",
        "r3=((A == B) and (B > C))\n",
        "print(\"Esto (A = B y B > C) es\",r3)\n",
        "print(\"ㅤ\")\n",
        "\n",
        "r4=((A < C) or (B < C))\n",
        "print(\"Esto (A < C o B < C) es\",r4)\n",
        "print(\"ㅤ\")\n",
        "\n",
        "r5=((A + D) < (C ) and  (B > 5))\n",
        "print(\"Esto (A + D < C y B > 5) es\",r5)\n",
        "print(\"ㅤ\")\n",
        "\n",
        "r6=((D - C) >= (- A * B))\n",
        "print(\"Esto (D – C >= - A * B) es\",r6)\n",
        "print(\"ㅤ\")\n",
        "\n",
        "r7=((D * C) == (5) or (C * A > 9))\n",
        "print(\"Esto (D * C == 5 o C * A > 9) es\",r7)\n",
        "print(\"ㅤ\")\n",
        "\n",
        "r8=((A * B + C )> (- D * 10))\n",
        "print(\"Esto (A * B + C > - D * 10) es\",r8)\n",
        "\n"
      ],
      "metadata": {
        "colab": {
          "base_uri": "https://localhost:8080/"
        },
        "id": "yi0hxZIwMJIe",
        "outputId": "38a5112c-b120-4771-fd93-47e23a4c9b50"
      },
      "execution_count": 29,
      "outputs": [
        {
          "output_type": "stream",
          "name": "stdout",
          "text": [
            "Ingrese el primer número decimal:1\n",
            "Ingrese el segundo número decimal:1\n",
            "Ingrese el tercer número decimal:1\n",
            "Ingrese el cuarto número decimal:1\n",
            "ㅤ\n",
            "Esto (A > B y B > D) es False\n",
            "ㅤ\n",
            "Esto (B <= C o C < D) es True\n",
            "ㅤ\n",
            "Esto (A = B y B > C) es False\n",
            "ㅤ\n",
            "Esto (A < C o B < C) es False\n",
            "ㅤ\n",
            "Esto (A + D < C y B > 5) es False\n",
            "ㅤ\n",
            "Esto (D – C >= - A * B) es True\n",
            "ㅤ\n",
            "Esto (D * C == 5 o C * A > 9) es False\n",
            "ㅤ\n",
            "Esto (A * B + C > - D * 10) es True\n"
          ]
        }
      ]
    },
    {
      "cell_type": "code",
      "source": [],
      "metadata": {
        "id": "f_21b6NlIMQA"
      },
      "execution_count": null,
      "outputs": []
    }
  ]
}