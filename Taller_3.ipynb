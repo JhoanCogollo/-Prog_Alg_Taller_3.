{
  "nbformat": 4,
  "nbformat_minor": 0,
  "metadata": {
    "colab": {
      "provenance": [],
      "include_colab_link": true
    },
    "kernelspec": {
      "name": "python3",
      "display_name": "Python 3"
    },
    "language_info": {
      "name": "python"
    }
  },
  "cells": [
    {
      "cell_type": "markdown",
      "metadata": {
        "id": "view-in-github",
        "colab_type": "text"
      },
      "source": [
        "<a href=\"https://colab.research.google.com/github/JhoanCogollo/-Prog_Alg_Taller_3./blob/main/Taller_3.ipynb\" target=\"_parent\"><img src=\"https://colab.research.google.com/assets/colab-badge.svg\" alt=\"Open In Colab\"/></a>"
      ]
    },
    {
      "cell_type": "markdown",
      "source": [
        "Taller 3 Sintaxis Básica de Python\n",
        "\n",
        "-Jhoan Cogollo\n",
        "-505395\n",
        "-jhoan.cogolloj@upb.edu.co\n",
        "\n",
        "Jorge Cabrera\n",
        "-503744\n",
        "-Jorge.cabrera@upb.edu.co              \n"
      ],
      "metadata": {
        "id": "bxMAPuAMGLsg"
      }
    },
    {
      "cell_type": "markdown",
      "source": [
        "Problema 1.\n",
        "Calcular y mostrar la posición de una partícula que experimenta movimiento uniformemente\n",
        "acelerado a partir de su posición inicial (𝑥0), velocidad inicial (𝑣0) y aceleración (𝑎) en dos instantes de\n",
        "tiempo diferentes. La posición en un instante de tiempo está dada por:\n",
        "𝑥 = 𝑥0 + 𝑣0𝑡 +1/2𝑎𝑡**2\n"
      ],
      "metadata": {
        "id": "KROS3Y-buObR"
      }
    },
    {
      "cell_type": "code",
      "source": [
        "#CALCULAR LA POSICION FINAL DE UNA PARTICULA.\n",
        "\n",
        "X0 = float(input(\"Escriba la posicion inicial:\"))\n",
        "V0 = float(input(\"Escriba la velocidad inicia:\"))\n",
        "t = float(input(\"Escriba el tiempo:\"))\n",
        "a = float(input(\"Escriba la aceleracion:\"))\n",
        "\n",
        "\n",
        "X = X0 + V0*t + 0.5*(a*(t**2))\n",
        "\n",
        "print(\"la posicion de la particula es: \",X, \"m\")"
      ],
      "metadata": {
        "id": "dFOrH5_CucWY",
        "outputId": "82e90b55-b986-4b46-a9ea-ae78735f579f",
        "colab": {
          "base_uri": "https://localhost:8080/"
        }
      },
      "execution_count": 5,
      "outputs": [
        {
          "output_type": "stream",
          "name": "stdout",
          "text": [
            "Escriba la posicion inicial:3\n",
            "Escriba la velocidad inicia:3\n",
            "Escriba el tiempo:3\n",
            "Escriba la aceleracion:3\n",
            "la posicion de la particula es:  25.5 m\n"
          ]
        }
      ]
    },
    {
      "cell_type": "markdown",
      "source": [
        "Problema 2.\n",
        "Calcular y mostrar la distancia entre dos puntos 𝑃1 y 𝑃2 ubicados en las coordenadas (𝑥1, 𝑦1) y(𝑥2, 𝑦2). Ladistancia euclidiana se calcula con la ecuación:\n",
        "𝑑 = √((𝑥2 − 𝑥1)^2 + (𝑦2 − 𝑦1)^2)\n"
      ],
      "metadata": {
        "id": "kOV1aOuruQUq"
      }
    },
    {
      "cell_type": "code",
      "source": [
        "#calcular la distancia entre dos puntos\n",
        "\n",
        "X1 = float(input(\"Escriba la posicion del primer punto en x: \"))\n",
        "Y1 = float(input(\"Escriba la posicion del primer punto en y: \"))\n",
        "\n",
        "X2 = float(input(\"Escriba la posicion del segundo punto en x: \"))\n",
        "Y2 = float(input(\"Escriba la posicion del segundo punto en y: \"))\n",
        "\n",
        "print(\"X1= \",X1)\n",
        "print(\"Y1= \",Y1)\n",
        "print(\"X2= \",X2)\n",
        "print(\"Y2= \",Y2)\n",
        "print(\".\")\n",
        "d= ( ((X2-X1))**2 + ((Y2-Y1))**2)**0.5\n",
        "\n",
        "print(\"La distancia entre los dos puntos es: \",d,\"m\")"
      ],
      "metadata": {
        "id": "vCH1ve9zvDbm",
        "outputId": "c6102976-070c-4f51-e583-c61a6ad72954",
        "colab": {
          "base_uri": "https://localhost:8080/"
        }
      },
      "execution_count": 3,
      "outputs": [
        {
          "output_type": "stream",
          "name": "stdout",
          "text": [
            "Escriba la posicion del primer punto en x: 3\n",
            "Escriba la posicion del primer punto en y: 5\n",
            "Escriba la posicion del segundo punto en x: 2\n",
            "Escriba la posicion del segundo punto en y: 6\n",
            "X1=  3.0\n",
            "Y1=  5.0\n",
            "X2=  2.0\n",
            "Y2=  6.0\n",
            ".\n",
            "La distancia entre los dos puntos es:  1.4142135623730951 m\n"
          ]
        }
      ]
    },
    {
      "cell_type": "markdown",
      "source": [
        "##Problema 3.\n",
        "Calcular y mostrar el valor del volumen de un cilindro cuyo radio y altura sean ingresados por el\n",
        "usuario. El volumen de un cilindro está dado por:\n",
        "𝑉 = 𝜋𝑟**2ℎ\n",
        "Donde 𝜋 = 3.141592, 𝑟 es el radio y ℎ la altura."
      ],
      "metadata": {
        "id": "XHHhf0iKIJ5a"
      }
    },
    {
      "cell_type": "code",
      "source": [
        "\n",
        "#Cálculo volumen de un cilindro\n",
        "pi=3.141592\n",
        "r=float(input(\"Ingrese el radio del cilindro (m):\"))\n",
        "h=float(input(\"Ingrese la altura del cilindro (m):\",))\n",
        "v=pi*(r**2)*h\n",
        "print(\"     .\")\n",
        "print(\"     .\")\n",
        "print(\"     .\")\n",
        "print(\"El volumen del cilindro es:\",v,(\"m^3\"))"
      ],
      "metadata": {
        "colab": {
          "base_uri": "https://localhost:8080/"
        },
        "id": "lbIt3TxxI1HG",
        "outputId": "c4d2f615-d8f4-4c1c-d914-e2a286976505"
      },
      "execution_count": 2,
      "outputs": [
        {
          "output_type": "stream",
          "name": "stdout",
          "text": [
            "Ingrese el radio del cilindro (m):3\n",
            "Ingrese la altura del cilindro (m):4\n",
            "     .\n",
            "     .\n",
            "     .\n",
            "El volumen del cilindro es: 113.097312 m^3\n"
          ]
        }
      ]
    },
    {
      "cell_type": "markdown",
      "source": [
        "Problema 4.\n",
        "Calcular y mostrar el resultado de las siguientes operaciones lógicas:\n",
        "1. A > B y B > D\n",
        "2. B <= C o C < D\n",
        "3. A = B y B > C\n",
        "4. A < C o B < C\n",
        "5. A + D < C y B > 5\n",
        "6. D – C >= - A * B\n",
        "7. D * C == 5 o C * A > 9\n",
        "8. A * B + C > - D * 10\n",
        "\n"
      ],
      "metadata": {
        "id": "-2iQtK2LME-J"
      }
    },
    {
      "cell_type": "code",
      "source": [
        "#Calcular y mostrar el resultado de las siguientes operaciones lógicas\n",
        "\n",
        "A=float(input(\"Ingrese el primer número decimal:\"))\n",
        "B=float(input(\"Ingrese el segundo número decimal:\"))\n",
        "C=float(input(\"Ingrese el tercer número decimal:\"))\n",
        "D=float(input(\"Ingrese el cuarto número decimal:\"))\n",
        "print(\"ㅤ\")\n",
        "r1=((A > B) and (B > D))\n",
        "print(\"Esto (A > B y B > D) es\",r1)\n",
        "print(\"ㅤ\")\n",
        "\n",
        "r2=((B <= C) or (C < D))\n",
        "print(\"Esto (B <= C o C < D) es\",r2)\n",
        "print(\"ㅤ\")\n",
        "\n",
        "r3=((A == B) and (B > C))\n",
        "print(\"Esto (A = B y B > C) es\",r3)\n",
        "print(\"ㅤ\")\n",
        "\n",
        "r4=((A < C) or (B < C))\n",
        "print(\"Esto (A < C o B < C) es\",r4)\n",
        "print(\"ㅤ\")\n",
        "\n",
        "r5=((A + D) < (C ) and  (B > 5))\n",
        "print(\"Esto (A + D < C y B > 5) es\",r5)\n",
        "print(\"ㅤ\")\n",
        "\n",
        "r6=((D - C) >= (- A * B))\n",
        "print(\"Esto (D – C >= - A * B) es\",r6)\n",
        "print(\"ㅤ\")\n",
        "\n",
        "r7=((D * C) == (5) or (C * A > 9))\n",
        "print(\"Esto (D * C == 5 o C * A > 9) es\",r7)\n",
        "print(\"ㅤ\")\n",
        "\n",
        "r8=((A * B + C )> (- D * 10))\n",
        "print(\"Esto (A * B + C > - D * 10) es\",r8)\n",
        "\n"
      ],
      "metadata": {
        "colab": {
          "base_uri": "https://localhost:8080/"
        },
        "id": "yi0hxZIwMJIe",
        "outputId": "c3887e2a-e545-4d3d-97e3-8d28af98c37c"
      },
      "execution_count": 1,
      "outputs": [
        {
          "output_type": "stream",
          "name": "stdout",
          "text": [
            "Ingrese el primer número decimal:1\n",
            "Ingrese el segundo número decimal:1\n",
            "Ingrese el tercer número decimal:1\n",
            "Ingrese el cuarto número decimal:1\n",
            "ㅤ\n",
            "Esto (A > B y B > D) es False\n",
            "ㅤ\n",
            "Esto (B <= C o C < D) es True\n",
            "ㅤ\n",
            "Esto (A = B y B > C) es False\n",
            "ㅤ\n",
            "Esto (A < C o B < C) es False\n",
            "ㅤ\n",
            "Esto (A + D < C y B > 5) es False\n",
            "ㅤ\n",
            "Esto (D – C >= - A * B) es True\n",
            "ㅤ\n",
            "Esto (D * C == 5 o C * A > 9) es False\n",
            "ㅤ\n",
            "Esto (A * B + C > - D * 10) es True\n"
          ]
        }
      ]
    },
    {
      "cell_type": "code",
      "source": [],
      "metadata": {
        "id": "f_21b6NlIMQA"
      },
      "execution_count": null,
      "outputs": []
    }
  ]
}